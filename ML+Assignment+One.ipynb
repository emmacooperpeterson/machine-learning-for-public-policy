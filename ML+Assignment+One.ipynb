{
 "cells": [
  {
   "cell_type": "code",
   "execution_count": 161,
   "metadata": {
    "collapsed": false,
    "deletable": true,
    "editable": true
   },
   "outputs": [],
   "source": [
    "import pandas as pd\n",
    "import matplotlib.pyplot as plt\n",
    "from datetime import datetime\n",
    "import numpy as np"
   ]
  },
  {
   "cell_type": "code",
   "execution_count": 162,
   "metadata": {
    "collapsed": false,
    "deletable": true,
    "editable": true
   },
   "outputs": [],
   "source": [
    "graffiti = pd.read_csv('/Users/emmapeterson/Downloads/311_Service_Requests_-_Graffiti_Removal.csv')"
   ]
  },
  {
   "cell_type": "code",
   "execution_count": 163,
   "metadata": {
    "collapsed": true,
    "deletable": true,
    "editable": true
   },
   "outputs": [],
   "source": [
    "potholes = pd.read_csv('/Users/emmapeterson/Downloads/311_Service_Requests_-_Pot_Holes_Reported.csv')"
   ]
  },
  {
   "cell_type": "code",
   "execution_count": 164,
   "metadata": {
    "collapsed": true,
    "deletable": true,
    "editable": true
   },
   "outputs": [],
   "source": [
    "sanitation = pd.read_csv('/Users/emmapeterson/Downloads/311_Service_Requests_-_Sanitation_Code_Complaints.csv')"
   ]
  },
  {
   "cell_type": "code",
   "execution_count": 165,
   "metadata": {
    "collapsed": false,
    "deletable": true,
    "editable": true
   },
   "outputs": [],
   "source": [
    "vacant_abandoned = pd.read_csv\\\n",
    "('/Users/emmapeterson/Downloads/311_Service_Requests_-_Vacant_and_Abandoned_Buildings_Reported.csv', low_memory=False)"
   ]
  },
  {
   "cell_type": "code",
   "execution_count": 166,
   "metadata": {
    "collapsed": false,
    "deletable": true,
    "editable": true,
    "scrolled": true
   },
   "outputs": [
    {
     "name": "stdout",
     "output_type": "stream",
     "text": [
      "Number of requests: 855865\n",
      "Ward\n",
      "14.0    64934\n",
      "1.0     49080\n",
      "25.0    48709\n",
      "12.0    47891\n",
      "35.0    38698\n",
      "33.0    36707\n",
      "22.0    35736\n",
      "11.0    34359\n",
      "47.0    32010\n",
      "23.0    30808\n",
      "31.0    29631\n",
      "32.0    28530\n",
      "30.0    27716\n",
      "26.0    21463\n",
      "27.0    20227\n",
      "10.0    18804\n",
      "13.0    18469\n",
      "42.0    17214\n",
      "40.0    16536\n",
      "16.0    15960\n",
      "39.0    15070\n",
      "38.0    14639\n",
      "2.0     14494\n",
      "15.0    14016\n",
      "44.0    13875\n",
      "50.0    13302\n",
      "45.0    12760\n",
      "43.0    12150\n",
      "28.0    11973\n",
      "49.0    11172\n",
      "36.0     9546\n",
      "48.0     9456\n",
      "18.0     8955\n",
      "46.0     8780\n",
      "29.0     8253\n",
      "37.0     7304\n",
      "24.0     6880\n",
      "20.0     5693\n",
      "3.0      4016\n",
      "17.0     2908\n",
      "4.0      2341\n",
      "7.0      2187\n",
      "5.0      2073\n",
      "9.0      1910\n",
      "41.0     1856\n",
      "8.0      1625\n",
      "19.0     1436\n",
      "34.0     1171\n",
      "6.0      1099\n",
      "21.0     1054\n",
      "0.0       271\n",
      "dtype: int64\n"
     ]
    }
   ],
   "source": [
    "#graffiti: number of requests total and by ward\n",
    "requests, rows = graffiti.shape\n",
    "print(\"Number of requests:\", requests)\n",
    "counts = graffiti.groupby('Ward').size()\n",
    "counts.sort_values(axis=0, ascending=False, inplace=True)\n",
    "print(counts)"
   ]
  },
  {
   "cell_type": "code",
   "execution_count": 167,
   "metadata": {
    "collapsed": false,
    "deletable": true,
    "editable": true
   },
   "outputs": [
    {
     "data": {
      "image/png": "[encoded data removed]",
      "text/plain": [
       "<matplotlib.figure.Figure at 0x14205fda0>"
      ]
     },
     "metadata": {},
     "output_type": "display_data"
    }
   ],
   "source": [
    "#graffiti: frequency by ward\n",
    "fig = plt.figure()\n",
    "fig.suptitle(\"Frequency of Graffiti Removal Requests By Ward\")\n",
    "counts.plot.hist()\n",
    "plt.show()"
   ]
  },
  {
   "cell_type": "code",
   "execution_count": 168,
   "metadata": {
    "collapsed": false,
    "deletable": true,
    "editable": true
   },
   "outputs": [
    {
     "name": "stdout",
     "output_type": "stream",
     "text": [
      "What Type of Surface is the Graffiti on?\n",
      "Brick - Unpainted                       198721\n",
      "Brick - Painted                         166057\n",
      "Metal - Painted                         142213\n",
      "Other / Unknown Surface                  87059\n",
      "Cement (Sidewalk, Alley, Wall, Curb)     50482\n",
      "Wood - Painted                           48044\n",
      "Metal                                    47903\n",
      "Aluminum Siding                          42906\n",
      "Metal - Unpainted                        15745\n",
      "Vinyl Siding                             14403\n",
      "Glass                                    12147\n",
      "Wood - Unpainted                         10800\n",
      "Other/Unknown Surface                     6568\n",
      "Limestone                                 3150\n",
      "Stucco                                    2837\n",
      "Marble/Granite                            1056\n",
      "Tree                                       727\n",
      "Asphalt                                    691\n",
      "dtype: int64\n"
     ]
    }
   ],
   "source": [
    "#graffiti: subtypes\n",
    "types = graffiti.groupby('What Type of Surface is the Graffiti on?').size()\n",
    "types.sort_values(axis=0, ascending=False, inplace=True)\n",
    "print(types)\n"
   ]
  },
  {
   "cell_type": "code",
   "execution_count": 169,
   "metadata": {
    "collapsed": false,
    "deletable": true,
    "editable": true
   },
   "outputs": [],
   "source": [
    "#reports over time\n",
    "cutoff_one = datetime(2007, 1, 1)\n",
    "cutoff_two = datetime(2008, 1, 1)\n",
    "cutoff_three = datetime(2009, 1, 1)\n",
    "cutoff_four = datetime(2010, 1, 1)\n",
    "cutoff_five = datetime(2011, 1, 1)\n",
    "cutoff_six = datetime(2012, 1, 1)\n",
    "cutoff_seven = datetime(2013, 1, 1)\n",
    "cutoff_eight = datetime(2014, 1, 1)\n",
    "cutoff_nine = datetime(2015, 1, 1)\n",
    "cutoff_ten = datetime(2016, 1, 1)\n",
    "cutoff_eleven = datetime(2017, 1, 1)\n",
    "\n",
    "year_2007 = 0\n",
    "year_2008 = 0\n",
    "year_2009 = 0\n",
    "year_2010 = 0\n",
    "year_2011 = 0\n",
    "year_2012 = 0\n",
    "year_2013 = 0\n",
    "year_2014 = 0\n",
    "year_2015 = 0\n",
    "year_2016 = 0\n",
    "year_2017 = 0"
   ]
  },
  {
   "cell_type": "code",
   "execution_count": 170,
   "metadata": {
    "collapsed": false,
    "deletable": true,
    "editable": true
   },
   "outputs": [
    {
     "data": {
      "image/png": "[encoded data removed]",
      "text/plain": [
       "<matplotlib.figure.Figure at 0x118bf7198>"
      ]
     },
     "metadata": {},
     "output_type": "display_data"
    }
   ],
   "source": [
    "#graffiti: response time\n",
    "graffiti[\"Response Time\"] = \"\"\n",
    "cutoff = datetime(2000, 1, 1) #to exclude entries from before 311 was implemented\n",
    "\n",
    "for index, row in graffiti.iterrows():\n",
    "    start = graffiti.ix[index, 'Creation Date']\n",
    "    end = graffiti.ix[index, 'Completion Date']\n",
    "    \n",
    "    if type(end) == str:\n",
    "        a = datetime.strptime(start, \"%m/%d/%Y\")\n",
    "        b = datetime.strptime(end, \"%m/%d/%Y\")\n",
    "                    \n",
    "        if a > cutoff:\n",
    "            delta = b - a\n",
    "            graffiti.set_value(index, 'Response Time', delta.days)\n",
    "            \n",
    "            if a > cutoff_one and a < cutoff_two:\n",
    "                year_2007 += 1\n",
    "        \n",
    "            elif a > cutoff_two and a < cutoff_three:\n",
    "                year_2008 += 1\n",
    "\n",
    "            elif a > cutoff_three and a < cutoff_four:\n",
    "                year_2009 += 1\n",
    "\n",
    "            elif a > cutoff_four and a < cutoff_five:\n",
    "                year_2010 += 1\n",
    "\n",
    "            elif a > cutoff_five and a < cutoff_six:\n",
    "                year_2011 += 1\n",
    "\n",
    "            elif a > cutoff_six and a < cutoff_seven:\n",
    "                year_2012 += 1\n",
    "\n",
    "            elif a > cutoff_seven and a < cutoff_eight:\n",
    "                year_2013 += 1\n",
    "\n",
    "            elif a > cutoff_eight and a < cutoff_nine:\n",
    "                year_2014 += 1\n",
    "            \n",
    "            elif a > cutoff_nine and a < cutoff_ten:\n",
    "                year_2015 += 1\n",
    "\n",
    "            elif a > cutoff_ten and a < cutoff_eleven:\n",
    "                year_2016 += 1\n",
    "\n",
    "            elif a > cutoff_eleven:\n",
    "                year_2017 += 1\n",
    "            \n",
    "        else: \n",
    "            graffiti.set_value(index, 'Response Time', np.nan)\n",
    "    else:\n",
    "        graffiti.set_value(index, 'Response Time', np.nan)\n",
    "\n",
    "response_frame = graffiti.sort_values(['Response Time'], ascending=[False])\n",
    "\n",
    "x_labels = ['year_2007', 'year_2008', 'year_2009', 'year_2010', 'year_2011',\\\n",
    "'year_2012', 'year_2013', 'year_2014', 'year_2015', 'year_2016', 'year_2017']\n",
    "\n",
    "bars = [year_2007, year_2008, year_2009, year_2010, year_2011,\\\n",
    "year_2012, year_2013, year_2014, year_2015, year_2016, year_2017]\n",
    "\n",
    "plt.bar(range(11), bars, align='center')\n",
    "plt.xticks(range(11), x_labels, rotation='vertical')\n",
    "plt.show()\n"
   ]
  },
  {
   "cell_type": "code",
   "execution_count": 171,
   "metadata": {
    "collapsed": false,
    "deletable": true,
    "editable": true,
    "scrolled": false
   },
   "outputs": [
    {
     "name": "stdout",
     "output_type": "stream",
     "text": [
      "number of requests taking longer than one year to complete: 586\n",
      "\n",
      "Ward\n",
      "35.0    87\n",
      "12.0    85\n",
      "32.0    48\n",
      "30.0    47\n",
      "49.0    46\n",
      "31.0    28\n",
      "25.0    23\n",
      "14.0    19\n",
      "29.0    18\n",
      "1.0     18\n",
      "22.0    17\n",
      "38.0    15\n",
      "47.0    15\n",
      "36.0    14\n",
      "43.0    14\n",
      "26.0    13\n",
      "28.0     9\n",
      "48.0     8\n",
      "10.0     7\n",
      "24.0     7\n",
      "27.0     6\n",
      "16.0     6\n",
      "50.0     6\n",
      "46.0     5\n",
      "33.0     4\n",
      "15.0     3\n",
      "40.0     3\n",
      "2.0      3\n",
      "37.0     2\n",
      "23.0     2\n",
      "42.0     2\n",
      "11.0     2\n",
      "45.0     1\n",
      "20.0     1\n",
      "13.0     1\n",
      "39.0     1\n",
      "dtype: int64\n"
     ]
    }
   ],
   "source": [
    "#longest response times\n",
    "longest = response_frame.loc[response_frame['Response Time'] > 365]\n",
    "print('number of requests taking longer than one year to complete:', len(longest))\n",
    "print()\n",
    "\n",
    "longest_by_ward = longest.groupby('Ward').size()\n",
    "longest_by_ward.sort_values(axis=0, ascending=False, inplace=True)\n",
    "\n",
    "print(longest_by_ward)\n",
    "#most common: 35, 12, 32"
   ]
  },
  {
   "cell_type": "code",
   "execution_count": 172,
   "metadata": {
    "collapsed": false,
    "deletable": true,
    "editable": true
   },
   "outputs": [
    {
     "name": "stdout",
     "output_type": "stream",
     "text": [
      "Number of requests taking fewer than 30 days to complete: 831412\n",
      "\n",
      "Ward\n",
      "14.0    63676\n",
      "12.0    47278\n",
      "1.0     47246\n",
      "25.0    47040\n",
      "35.0    37070\n",
      "33.0    35956\n",
      "22.0    34206\n",
      "11.0    33568\n",
      "47.0    31234\n",
      "23.0    30457\n",
      "31.0    29072\n",
      "32.0    26930\n",
      "30.0    26805\n",
      "26.0    20829\n",
      "27.0    19390\n",
      "10.0    18392\n",
      "13.0    18307\n",
      "42.0    17077\n",
      "40.0    16027\n",
      "16.0    15484\n",
      "39.0    14617\n",
      "2.0     14335\n",
      "38.0    13998\n",
      "15.0    13656\n",
      "44.0    13483\n",
      "50.0    12805\n",
      "45.0    12333\n",
      "43.0    11583\n",
      "28.0    11496\n",
      "49.0    10568\n",
      "36.0     9337\n",
      "48.0     9024\n",
      "18.0     8866\n",
      "46.0     8534\n",
      "29.0     8066\n",
      "37.0     6951\n",
      "24.0     6721\n",
      "20.0     5558\n",
      "3.0      3936\n",
      "17.0     2843\n",
      "4.0      2284\n",
      "7.0      2121\n",
      "5.0      2016\n",
      "9.0      1860\n",
      "41.0     1824\n",
      "8.0      1576\n",
      "19.0     1427\n",
      "34.0     1137\n",
      "6.0      1057\n",
      "21.0     1008\n",
      "0.0       242\n",
      "dtype: int64\n"
     ]
    }
   ],
   "source": [
    "#fastest response times\n",
    "fastest = response_frame.loc[response_frame['Response Time'] < 30]\n",
    "print('Number of requests taking fewer than 30 days to complete:', len(fastest))\n",
    "print()\n",
    "\n",
    "fastest_by_ward = fastest.groupby('Ward').size()\n",
    "fastest_by_ward.sort_values(axis=0, ascending=False, inplace=True)\n",
    "print(fastest_by_ward)"
   ]
  },
  {
   "cell_type": "code",
   "execution_count": 173,
   "metadata": {
    "collapsed": false,
    "deletable": true,
    "editable": true
   },
   "outputs": [
    {
     "name": "stdout",
     "output_type": "stream",
     "text": [
      "Number of requests: 458652\n",
      "Ward\n",
      "41.0    16623\n",
      "32.0    14171\n",
      "23.0    14129\n",
      "19.0    13537\n",
      "45.0    13213\n",
      "13.0    12746\n",
      "8.0     12497\n",
      "21.0    11883\n",
      "39.0    11858\n",
      "42.0    11742\n",
      "2.0     11720\n",
      "36.0    11654\n",
      "34.0    11305\n",
      "18.0    11038\n",
      "50.0    10858\n",
      "27.0    10435\n",
      "38.0    10240\n",
      "10.0     9877\n",
      "14.0     9824\n",
      "40.0     9701\n",
      "29.0     9681\n",
      "6.0      9621\n",
      "28.0     8692\n",
      "35.0     8655\n",
      "1.0      8633\n",
      "49.0     8452\n",
      "5.0      8426\n",
      "9.0      8421\n",
      "11.0     8360\n",
      "25.0     8297\n",
      "12.0     7892\n",
      "24.0     7665\n",
      "47.0     7658\n",
      "37.0     7581\n",
      "31.0     7503\n",
      "17.0     7441\n",
      "30.0     6929\n",
      "26.0     6870\n",
      "43.0     6859\n",
      "7.0      6697\n",
      "3.0      6500\n",
      "33.0     6478\n",
      "16.0     6379\n",
      "15.0     6278\n",
      "20.0     6241\n",
      "48.0     5752\n",
      "4.0      5693\n",
      "22.0     5504\n",
      "44.0     5392\n",
      "46.0     3485\n",
      "0.0      1312\n",
      "dtype: int64\n"
     ]
    }
   ],
   "source": [
    "#pot holes: number of requests total and by ward\n",
    "requests, rows = potholes.shape\n",
    "print(\"Number of requests:\", requests)\n",
    "counts = potholes.groupby('Ward').size()\n",
    "counts.sort_values(axis=0, ascending=False, inplace=True)\n",
    "print(counts)"
   ]
  },
  {
   "cell_type": "code",
   "execution_count": 174,
   "metadata": {
    "collapsed": false,
    "deletable": true,
    "editable": true
   },
   "outputs": [
    {
     "data": {
      "image/png": "[encoded data removed]",
      "text/plain": [
       "<matplotlib.figure.Figure at 0x12e6b6fd0>"
      ]
     },
     "metadata": {},
     "output_type": "display_data"
    }
   ],
   "source": [
    "#potholes: frequency by ward\n",
    "fig = plt.figure()\n",
    "fig.suptitle(\"Frequency of Pot Hole Requests By Ward\")\n",
    "counts.plot.hist()\n",
    "plt.show()"
   ]
  },
  {
   "cell_type": "code",
   "execution_count": 176,
   "metadata": {
    "collapsed": false,
    "deletable": true,
    "editable": true
   },
   "outputs": [
    {
     "name": "stdout",
     "output_type": "stream",
     "text": [
      "MOST RECENT ACTION\n",
      "Pothole Patched                                                            263027\n",
      "No Potholes Found                                                           21581\n",
      "Completed Upon Arrival                                                      12428\n",
      " No Problem Found                                                            5919\n",
      "Complete Upon Arrival                                                        5357\n",
      "Street Resurfaced                                                            4095\n",
      "CDOT Pavement Cave-In Survey Transfer Outcome                                3939\n",
      "WM Sewer Cave In Inspection Transfer Outcome                                 2572\n",
      "CDOT Alley Pot Hole Transfer Outcome                                         1657\n",
      "Completed                                                                    1030\n",
      "CDOT Street Cut Complaints Transfer Outcome                                   971\n",
      "CDOT Inspect Public Way Survey Transfer Outcome                               650\n",
      "No Such Address Found                                                         415\n",
      "Follow-on Pot Hole in Street Created                                          325\n",
      "No Problem Found                                                              300\n",
      "Not Within CDOT Jurisdiction                                                  208\n",
      "No Action - See Remarks in Description                                        182\n",
      "CDOT Pavement Buckle or Speed Hump Transfer Outcome                           170\n",
      "No Jurisdiction                                                               149\n",
      "Private Property - Owner's Responsibility                                      84\n",
      "CDOT Alley Grading - Unimproved Transfer Outcome                               69\n",
      "Street Under Construction - Transfer to Inspect Public Way Construction        61\n",
      "WM CDOT Recommended Restoration Transfer Outcome                               61\n",
      "WM Water Management General Investigation Transfer Outcome                     59\n",
      "Create Work Order                                                              54\n",
      "CDOT Asphalt Top Off Restoration Transfer Outcome                              51\n",
      "Owner's Responsibility                                                         25\n",
      "GAS Peoples Gas Transfer Outcome                                               23\n",
      "CDOT Electrical Operations Construction Complaints Transfer Outcome             9\n",
      "No Survey Required                                                              3\n",
      "Referred                                                                        1\n",
      "Survey Completed - No Citation Issued                                           1\n",
      "Area Inspected, no such address found                                           1\n",
      "dtype: int64\n"
     ]
    }
   ],
   "source": [
    "#potholes: subtypes\n",
    "types = potholes.groupby('MOST RECENT ACTION').size()\n",
    "types.sort_values(axis=0, ascending=False, inplace=True)\n",
    "print(types)"
   ]
  },
  {
   "cell_type": "code",
   "execution_count": 177,
   "metadata": {
    "collapsed": true,
    "deletable": true,
    "editable": true
   },
   "outputs": [],
   "source": [
    "#initialize time periods\n",
    "\n",
    "year_2007 = 0\n",
    "year_2008 = 0\n",
    "year_2009 = 0\n",
    "year_2010 = 0\n",
    "year_2011 = 0\n",
    "year_2012 = 0\n",
    "year_2013 = 0\n",
    "year_2014 = 0\n",
    "year_2015 = 0\n",
    "year_2016 = 0\n",
    "year_2017 = 0"
   ]
  },
  {
   "cell_type": "code",
   "execution_count": 178,
   "metadata": {
    "collapsed": false,
    "deletable": true,
    "editable": true
   },
   "outputs": [
    {
     "data": {
      "image/png": "[encoded data removed]",
      "text/plain": [
       "<matplotlib.figure.Figure at 0x118bb8dd8>"
      ]
     },
     "metadata": {},
     "output_type": "display_data"
    }
   ],
   "source": [
    "#potholes: response time\n",
    "potholes[\"Response Time\"] = \"\"\n",
    "cutoff = datetime(2000, 1, 1) #to exclude entries from before 311 was implemented\n",
    "\n",
    "for index, row in potholes.iterrows():\n",
    "    start = potholes.ix[index, 'CREATION DATE']\n",
    "    end = potholes.ix[index, 'COMPLETION DATE']\n",
    "    \n",
    "    if type(end) == str:\n",
    "        a = datetime.strptime(start, \"%m/%d/%Y\")\n",
    "        b = datetime.strptime(end, \"%m/%d/%Y\")\n",
    "        \n",
    "        if a > cutoff_one and a < cutoff_two:\n",
    "                year_2007 += 1\n",
    "        \n",
    "        elif a > cutoff_two and a < cutoff_three:\n",
    "            year_2008 += 1\n",
    "\n",
    "        elif a > cutoff_three and a < cutoff_four:\n",
    "            year_2009 += 1\n",
    "\n",
    "        elif a > cutoff_four and a < cutoff_five:\n",
    "            year_2010 += 1\n",
    "\n",
    "        elif a > cutoff_five and a < cutoff_six:\n",
    "            year_2011 += 1\n",
    "\n",
    "        elif a > cutoff_six and a < cutoff_seven:\n",
    "            year_2012 += 1\n",
    "\n",
    "        elif a > cutoff_seven and a < cutoff_eight:\n",
    "            year_2013 += 1\n",
    "\n",
    "        elif a > cutoff_eight and a < cutoff_nine:\n",
    "            year_2014 += 1\n",
    "            \n",
    "        elif a > cutoff_nine and a < cutoff_ten:\n",
    "            year_2015 += 1\n",
    "\n",
    "        elif a > cutoff_ten and a < cutoff_eleven:\n",
    "            year_2016 += 1\n",
    "\n",
    "        elif a > cutoff_eleven:\n",
    "            year_2017 += 1\n",
    "        \n",
    "        if a > cutoff:\n",
    "            delta = b - a\n",
    "            potholes.set_value(index, 'Response Time', delta.days)\n",
    "        else: \n",
    "            potholes.set_value(index, 'Response Time', np.nan)\n",
    "    else:\n",
    "        potholes.set_value(index, 'Response Time', np.nan)\n",
    "\n",
    "test = potholes.sort_values(['Response Time'], ascending=[False])\n",
    "\n",
    "x_labels = ['year_2007', 'year_2008', 'year_2009', 'year_2010', 'year_2011',\\\n",
    "'year_2012', 'year_2013', 'year_2014', 'year_2015', 'year_2016', 'year_2017']\n",
    "\n",
    "bars = [year_2007, year_2008, year_2009, year_2010, year_2011,\\\n",
    "year_2012, year_2013, year_2014, year_2015, year_2016, year_2017]\n",
    "\n",
    "plt.bar(range(11), bars, align='center')\n",
    "plt.xticks(range(11), x_labels, rotation='vertical')\n",
    "plt.show()"
   ]
  },
  {
   "cell_type": "code",
   "execution_count": 179,
   "metadata": {
    "collapsed": false,
    "deletable": true,
    "editable": true
   },
   "outputs": [
    {
     "name": "stdout",
     "output_type": "stream",
     "text": [
      "number of requests taking longer than one year to complete: 4794\n",
      "\n",
      "Ward\n",
      "32.0    435\n",
      "1.0     184\n",
      "2.0     169\n",
      "35.0    168\n",
      "37.0    158\n",
      "25.0    155\n",
      "8.0     153\n",
      "18.0    153\n",
      "21.0    153\n",
      "41.0    150\n",
      "28.0    148\n",
      "43.0    136\n",
      "39.0    133\n",
      "36.0    131\n",
      "24.0    126\n",
      "22.0    124\n",
      "29.0    123\n",
      "50.0    123\n",
      "5.0     121\n",
      "6.0     117\n",
      "27.0    111\n",
      "26.0    110\n",
      "40.0    110\n",
      "42.0    108\n",
      "31.0    100\n",
      "33.0     96\n",
      "30.0     96\n",
      "45.0     82\n",
      "48.0     73\n",
      "10.0     71\n",
      "7.0      68\n",
      "19.0     60\n",
      "38.0     52\n",
      "23.0     49\n",
      "0.0      48\n",
      "49.0     45\n",
      "47.0     43\n",
      "17.0     41\n",
      "13.0     37\n",
      "44.0     34\n",
      "9.0      28\n",
      "12.0     25\n",
      "14.0     24\n",
      "34.0     22\n",
      "3.0      21\n",
      "16.0     21\n",
      "15.0     16\n",
      "46.0     15\n",
      "20.0     13\n",
      "4.0       9\n",
      "11.0      6\n",
      "dtype: int64\n"
     ]
    }
   ],
   "source": [
    "#longest response times\n",
    "longest = test.loc[test['Response Time'] > 365] #longer than one year\n",
    "print('number of requests taking longer than one year to complete:', len(longest))\n",
    "print()\n",
    "\n",
    "longest_by_ward = longest.groupby('Ward').size()\n",
    "longest_by_ward.sort_values(axis=0, ascending=False, inplace=True)\n",
    "\n",
    "print(longest_by_ward)\n",
    "#most common: 32, 1, 2"
   ]
  },
  {
   "cell_type": "code",
   "execution_count": 180,
   "metadata": {
    "collapsed": false,
    "deletable": true,
    "editable": true
   },
   "outputs": [
    {
     "name": "stdout",
     "output_type": "stream",
     "text": [
      "Number of requests taking fewer than 30 days to complete: 342154\n",
      "\n",
      "Ward\n",
      "41.0    11289\n",
      "19.0    11282\n",
      "23.0    11110\n",
      "13.0    10804\n",
      "42.0    10164\n",
      "32.0    10056\n",
      "8.0      9701\n",
      "21.0     9383\n",
      "34.0     9372\n",
      "45.0     9051\n",
      "2.0      8871\n",
      "18.0     8654\n",
      "10.0     8092\n",
      "14.0     8081\n",
      "6.0      7621\n",
      "39.0     7561\n",
      "27.0     7529\n",
      "50.0     7497\n",
      "36.0     7402\n",
      "11.0     7200\n",
      "38.0     7190\n",
      "29.0     7141\n",
      "5.0      6781\n",
      "9.0      6738\n",
      "12.0     6508\n",
      "40.0     6267\n",
      "25.0     6224\n",
      "49.0     6219\n",
      "1.0      6011\n",
      "17.0     5930\n",
      "28.0     5854\n",
      "35.0     5697\n",
      "3.0      5478\n",
      "31.0     5360\n",
      "47.0     5352\n",
      "16.0     5259\n",
      "7.0      5251\n",
      "43.0     5211\n",
      "24.0     5086\n",
      "15.0     5070\n",
      "26.0     4878\n",
      "20.0     4730\n",
      "37.0     4698\n",
      "4.0      4462\n",
      "30.0     4379\n",
      "44.0     4303\n",
      "33.0     4299\n",
      "48.0     4057\n",
      "22.0     3563\n",
      "46.0     2445\n",
      "0.0       884\n",
      "dtype: int64\n"
     ]
    }
   ],
   "source": [
    "#fastest response times\n",
    "fastest = test.loc[test['Response Time'] < 30]\n",
    "print('Number of requests taking fewer than 30 days to complete:', len(fastest))\n",
    "print()\n",
    "\n",
    "fastest_by_ward = fastest.groupby('Ward').size()\n",
    "fastest_by_ward.sort_values(axis=0, ascending=False, inplace=True)\n",
    "print(fastest_by_ward)\n",
    "#most common: 42, 19, 23"
   ]
  },
  {
   "cell_type": "code",
   "execution_count": 181,
   "metadata": {
    "collapsed": false,
    "deletable": true,
    "editable": true
   },
   "outputs": [
    {
     "name": "stdout",
     "output_type": "stream",
     "text": [
      "Number of requests: 119011\n",
      "Ward\n",
      "6.0     4844\n",
      "21.0    4688\n",
      "32.0    4451\n",
      "17.0    3972\n",
      "7.0     3941\n",
      "18.0    3653\n",
      "28.0    3649\n",
      "34.0    3238\n",
      "43.0    3153\n",
      "27.0    3149\n",
      "9.0     3144\n",
      "24.0    3025\n",
      "8.0     3017\n",
      "35.0    2931\n",
      "26.0    2797\n",
      "37.0    2723\n",
      "15.0    2716\n",
      "20.0    2685\n",
      "14.0    2685\n",
      "1.0     2640\n",
      "11.0    2564\n",
      "16.0    2535\n",
      "33.0    2207\n",
      "31.0    2100\n",
      "50.0    2042\n",
      "39.0    2041\n",
      "29.0    2018\n",
      "30.0    1983\n",
      "45.0    1981\n",
      "2.0     1964\n",
      "25.0    1890\n",
      "23.0    1887\n",
      "3.0     1883\n",
      "36.0    1810\n",
      "38.0    1787\n",
      "40.0    1782\n",
      "10.0    1644\n",
      "13.0    1629\n",
      "47.0    1610\n",
      "5.0     1606\n",
      "44.0    1555\n",
      "46.0    1519\n",
      "41.0    1475\n",
      "22.0    1457\n",
      "19.0    1357\n",
      "12.0    1353\n",
      "49.0    1257\n",
      "42.0    1080\n",
      "4.0     1048\n",
      "48.0     838\n",
      "0.0        3\n",
      "dtype: int64\n"
     ]
    }
   ],
   "source": [
    "#sanitation: number of requests total and by ward\n",
    "requests, rows = sanitation.shape\n",
    "print(\"Number of requests:\", requests)\n",
    "counts = sanitation.groupby('Ward').size()\n",
    "counts.sort_values(axis=0, ascending=False, inplace=True)\n",
    "print(counts)"
   ]
  },
  {
   "cell_type": "code",
   "execution_count": 182,
   "metadata": {
    "collapsed": false,
    "deletable": true,
    "editable": true
   },
   "outputs": [
    {
     "data": {
      "image/png": "[encoded data removed]",
      "text/plain": [
       "<matplotlib.figure.Figure at 0x11e828710>"
      ]
     },
     "metadata": {},
     "output_type": "display_data"
    }
   ],
   "source": [
    "#sanitation complaints: frequency by ward\n",
    "fig = plt.figure()\n",
    "fig.suptitle(\"Frequency of Sanitation Complaints By Ward\")\n",
    "counts.plot.hist()\n",
    "plt.show()"
   ]
  },
  {
   "cell_type": "code",
   "execution_count": 183,
   "metadata": {
    "collapsed": false,
    "deletable": true,
    "editable": true
   },
   "outputs": [
    {
     "name": "stdout",
     "output_type": "stream",
     "text": [
      "What is the Nature of this Code Violation?\n",
      "Other                                         44620\n",
      "Garbage in yard                               21579\n",
      "Garbage in alley                              18053\n",
      "Dumpster not being emptied                     9231\n",
      "Overflowing carts                              8946\n",
      "Dog feces in yard                              6366\n",
      "Construction Site Cleanliness/Fence            4194\n",
      "Standing water                                 1158\n",
      "Graffiti Commercial Vehicle                      88\n",
      "WHAT IS THE NATURE OF THIS CODE VIOLATION?        1\n",
      "dtype: int64\n"
     ]
    }
   ],
   "source": [
    "#sanitation: subtypes\n",
    "types = sanitation.groupby('What is the Nature of this Code Violation?').size()\n",
    "types.sort_values(axis=0, ascending=False, inplace=True)\n",
    "print(types)"
   ]
  },
  {
   "cell_type": "code",
   "execution_count": 184,
   "metadata": {
    "collapsed": true,
    "deletable": true,
    "editable": true
   },
   "outputs": [],
   "source": [
    "#initialize time periods\n",
    "\n",
    "year_2007 = 0\n",
    "year_2008 = 0\n",
    "year_2009 = 0\n",
    "year_2010 = 0\n",
    "year_2011 = 0\n",
    "year_2012 = 0\n",
    "year_2013 = 0\n",
    "year_2014 = 0\n",
    "year_2015 = 0\n",
    "year_2016 = 0\n",
    "year_2017 = 0"
   ]
  },
  {
   "cell_type": "code",
   "execution_count": 185,
   "metadata": {
    "collapsed": false,
    "deletable": true,
    "editable": true
   },
   "outputs": [
    {
     "data": {
      "image/png": "[encoded data removed]",
      "text/plain": [
       "<matplotlib.figure.Figure at 0x126b2a470>"
      ]
     },
     "metadata": {},
     "output_type": "display_data"
    }
   ],
   "source": [
    "#sanitation complaints: response time\n",
    "potholes[\"Response Time\"] = \"\"\n",
    "cutoff = datetime(2000, 1, 1) #to exclude entries from before 311 was implemented\n",
    "\n",
    "for index, row in sanitation.iterrows():\n",
    "    start = sanitation.ix[index, 'Creation Date']\n",
    "    end = sanitation.ix[index, 'Completion Date']\n",
    "    cutoff = datetime(2000, 1, 1) #to exclude entries from before 311 was implemented\n",
    "    \n",
    "    if type(end) == str:\n",
    "        a = datetime.strptime(start, \"%m/%d/%Y\")\n",
    "        b = datetime.strptime(end, \"%m/%d/%Y\")\n",
    "        \n",
    "        if a > cutoff_one and a < cutoff_two:\n",
    "                year_2007 += 1\n",
    "        \n",
    "        elif a > cutoff_two and a < cutoff_three:\n",
    "            year_2008 += 1\n",
    "\n",
    "        elif a > cutoff_three and a < cutoff_four:\n",
    "            year_2009 += 1\n",
    "\n",
    "        elif a > cutoff_four and a < cutoff_five:\n",
    "            year_2010 += 1\n",
    "\n",
    "        elif a > cutoff_five and a < cutoff_six:\n",
    "            year_2011 += 1\n",
    "\n",
    "        elif a > cutoff_six and a < cutoff_seven:\n",
    "            year_2012 += 1\n",
    "\n",
    "        elif a > cutoff_seven and a < cutoff_eight:\n",
    "            year_2013 += 1\n",
    "\n",
    "        elif a > cutoff_eight and a < cutoff_nine:\n",
    "            year_2014 += 1\n",
    "            \n",
    "        elif a > cutoff_nine and a < cutoff_ten:\n",
    "            year_2015 += 1\n",
    "\n",
    "        elif a > cutoff_ten and a < cutoff_eleven:\n",
    "            year_2016 += 1\n",
    "\n",
    "        elif a > cutoff_eleven:\n",
    "            year_2017 += 1\n",
    "        \n",
    "        if a > cutoff:\n",
    "            delta = b - a\n",
    "            sanitation.set_value(index, 'Response Time', delta.days)\n",
    "            \n",
    "        else: \n",
    "            sanitation.set_value(index, 'Response Time', np.nan)\n",
    "    else:\n",
    "        sanitation.set_value(index, 'Response Time', np.nan)\n",
    "\n",
    "test = sanitation.sort_values(['Response Time'], ascending=[False])\n",
    "\n",
    "x_labels = ['year_2007', 'year_2008', 'year_2009', 'year_2010', 'year_2011',\\\n",
    "'year_2012', 'year_2013', 'year_2014', 'year_2015', 'year_2016', 'year_2017']\n",
    "\n",
    "bars = [year_2007, year_2008, year_2009, year_2010, year_2011,\\\n",
    "year_2012, year_2013, year_2014, year_2015, year_2016, year_2017]\n",
    "\n",
    "plt.bar(range(11), bars, align='center')\n",
    "plt.xticks(range(11), x_labels, rotation='vertical')\n",
    "plt.show()"
   ]
  },
  {
   "cell_type": "code",
   "execution_count": 186,
   "metadata": {
    "collapsed": false,
    "deletable": true,
    "editable": true
   },
   "outputs": [
    {
     "name": "stdout",
     "output_type": "stream",
     "text": [
      "number of requests taking longer than one year to complete: 142\n",
      "\n",
      "Ward\n",
      "20.0    33\n",
      "6.0     16\n",
      "21.0    13\n",
      "24.0     7\n",
      "45.0     6\n",
      "39.0     6\n",
      "35.0     6\n",
      "11.0     5\n",
      "17.0     5\n",
      "33.0     5\n",
      "16.0     4\n",
      "3.0      4\n",
      "43.0     4\n",
      "28.0     3\n",
      "37.0     3\n",
      "40.0     3\n",
      "15.0     3\n",
      "9.0      3\n",
      "7.0      3\n",
      "47.0     2\n",
      "19.0     2\n",
      "30.0     1\n",
      "31.0     1\n",
      "10.0     1\n",
      "44.0     1\n",
      "4.0      1\n",
      "50.0     1\n",
      "dtype: int64\n"
     ]
    }
   ],
   "source": [
    "#longest response times\n",
    "longest = test.loc[test['Response Time'] > 365] #longer than one year\n",
    "print('number of requests taking longer than one year to complete:', len(longest))\n",
    "print()\n",
    "\n",
    "longest_by_ward = longest.groupby('Ward').size()\n",
    "longest_by_ward.sort_values(axis=0, ascending=False, inplace=True)\n",
    "\n",
    "print(longest_by_ward)\n",
    "#most common: 20, 6, 21"
   ]
  },
  {
   "cell_type": "code",
   "execution_count": 187,
   "metadata": {
    "collapsed": false,
    "deletable": true,
    "editable": true
   },
   "outputs": [
    {
     "name": "stdout",
     "output_type": "stream",
     "text": [
      "Number of requests taking fewer than 30 days to complete: 112295\n",
      "\n",
      "Ward\n",
      "32.0    4433\n",
      "6.0     4369\n",
      "21.0    3868\n",
      "7.0     3769\n",
      "17.0    3360\n",
      "43.0    3126\n",
      "18.0    3012\n",
      "9.0     3002\n",
      "35.0    2910\n",
      "28.0    2876\n",
      "24.0    2836\n",
      "27.0    2814\n",
      "26.0    2728\n",
      "37.0    2689\n",
      "14.0    2672\n",
      "34.0    2655\n",
      "15.0    2587\n",
      "1.0     2551\n",
      "8.0     2523\n",
      "20.0    2488\n",
      "11.0    2399\n",
      "16.0    2207\n",
      "33.0    2187\n",
      "31.0    2090\n",
      "50.0    2032\n",
      "39.0    2022\n",
      "29.0    1987\n",
      "30.0    1979\n",
      "2.0     1955\n",
      "45.0    1938\n",
      "25.0    1886\n",
      "23.0    1884\n",
      "3.0     1857\n",
      "36.0    1807\n",
      "38.0    1780\n",
      "40.0    1774\n",
      "13.0    1627\n",
      "10.0    1616\n",
      "5.0     1587\n",
      "47.0    1579\n",
      "44.0    1528\n",
      "46.0    1519\n",
      "41.0    1473\n",
      "22.0    1456\n",
      "12.0    1352\n",
      "19.0    1291\n",
      "49.0    1251\n",
      "42.0    1076\n",
      "4.0     1044\n",
      "48.0     837\n",
      "0.0        3\n",
      "dtype: int64\n"
     ]
    }
   ],
   "source": [
    "#fastest response times\n",
    "fastest = test.loc[test['Response Time'] < 30]\n",
    "print('Number of requests taking fewer than 30 days to complete:', len(fastest))\n",
    "print()\n",
    "\n",
    "fastest_by_ward = fastest.groupby('Ward').size()\n",
    "fastest_by_ward.sort_values(axis=0, ascending=False, inplace=True)\n",
    "print(fastest_by_ward)\n",
    "#most common: 32, 6, 21"
   ]
  },
  {
   "cell_type": "code",
   "execution_count": 188,
   "metadata": {
    "collapsed": false,
    "deletable": true,
    "editable": true
   },
   "outputs": [
    {
     "name": "stdout",
     "output_type": "stream",
     "text": [
      "Number of requests: 58757\n",
      "Ward\n",
      "17.0    4863\n",
      "34.0    4053\n",
      "16.0    4047\n",
      "15.0    3486\n",
      "28.0    3226\n",
      "6.0     3126\n",
      "7.0     2927\n",
      "24.0    2763\n",
      "9.0     2741\n",
      "20.0    2590\n",
      "21.0    2397\n",
      "8.0     2349\n",
      "27.0    1696\n",
      "37.0    1615\n",
      "10.0    1615\n",
      "3.0     1409\n",
      "18.0    1115\n",
      "29.0     931\n",
      "14.0     903\n",
      "5.0      880\n",
      "2.0      689\n",
      "26.0     664\n",
      "11.0     575\n",
      "22.0     538\n",
      "30.0     527\n",
      "12.0     517\n",
      "19.0     491\n",
      "35.0     489\n",
      "25.0     455\n",
      "36.0     454\n",
      "13.0     454\n",
      "31.0     437\n",
      "4.0      417\n",
      "1.0      386\n",
      "23.0     379\n",
      "32.0     374\n",
      "33.0     264\n",
      "38.0     252\n",
      "45.0     239\n",
      "47.0     192\n",
      "39.0     189\n",
      "40.0     172\n",
      "41.0     161\n",
      "50.0     155\n",
      "43.0     117\n",
      "46.0      89\n",
      "44.0      87\n",
      "48.0      84\n",
      "49.0      80\n",
      "42.0      51\n",
      "0.0       10\n",
      "dtype: int64\n"
     ]
    }
   ],
   "source": [
    "#vacant/abandoned buildings: number of reports total and by ward\n",
    "requests, rows = vacant_abandoned.shape\n",
    "print(\"Number of requests:\", requests)\n",
    "counts = vacant_abandoned.groupby('Ward').size()\n",
    "counts.sort_values(axis=0, ascending=False, inplace=True)\n",
    "print(counts)"
   ]
  },
  {
   "cell_type": "code",
   "execution_count": 189,
   "metadata": {
    "collapsed": false,
    "deletable": true,
    "editable": true
   },
   "outputs": [
    {
     "data": {
      "image/png": "[encoded data removed]",
      "text/plain": [
       "<matplotlib.figure.Figure at 0x126066ac8>"
      ]
     },
     "metadata": {},
     "output_type": "display_data"
    }
   ],
   "source": [
    "#sanitation complaints: frequency by ward\n",
    "fig = plt.figure()\n",
    "fig.suptitle(\"Frequency of Vacant/Abandoned Building Reports By Ward\")\n",
    "counts.plot.hist()\n",
    "plt.show()"
   ]
  },
  {
   "cell_type": "code",
   "execution_count": 190,
   "metadata": {
    "collapsed": false,
    "deletable": true,
    "editable": true
   },
   "outputs": [
    {
     "name": "stdout",
     "output_type": "stream",
     "text": [
      "ANY PEOPLE USING PROPERTY? (HOMELESS, CHILDEN, GANGS)\n",
      "False    26688\n",
      "True     24413\n",
      "dtype: int64\n"
     ]
    }
   ],
   "source": [
    "#vacant/abandoned: subtypes\n",
    "types = vacant_abandoned.groupby('ANY PEOPLE USING PROPERTY? (HOMELESS, CHILDEN, GANGS)').size()\n",
    "print(types)"
   ]
  },
  {
   "cell_type": "code",
   "execution_count": 191,
   "metadata": {
    "collapsed": true,
    "deletable": true,
    "editable": true
   },
   "outputs": [],
   "source": [
    "#initialize time periods\n",
    "\n",
    "year_2007 = 0\n",
    "year_2008 = 0\n",
    "year_2009 = 0\n",
    "year_2010 = 0\n",
    "year_2011 = 0\n",
    "year_2012 = 0\n",
    "year_2013 = 0\n",
    "year_2014 = 0\n",
    "year_2015 = 0\n",
    "year_2016 = 0\n",
    "year_2017 = 0"
   ]
  },
  {
   "cell_type": "code",
   "execution_count": 192,
   "metadata": {
    "collapsed": false,
    "deletable": true,
    "editable": true
   },
   "outputs": [
    {
     "data": {
      "image/png": "[encoded data removed]",
      "text/plain": [
       "<matplotlib.figure.Figure at 0x11dd17dd8>"
      ]
     },
     "metadata": {},
     "output_type": "display_data"
    }
   ],
   "source": [
    "for index, row in vacant_abandoned.iterrows():\n",
    "    start = sanitation.ix[index, 'Creation Date']\n",
    "    \n",
    "    if type(start) == str:\n",
    "        a = datetime.strptime(start, \"%m/%d/%Y\")\n",
    "        \n",
    "        if a > cutoff_one and a < cutoff_two:\n",
    "                year_2007 += 1\n",
    "        \n",
    "        elif a > cutoff_two and a < cutoff_three:\n",
    "            year_2008 += 1\n",
    "\n",
    "        elif a > cutoff_three and a < cutoff_four:\n",
    "            year_2009 += 1\n",
    "\n",
    "        elif a > cutoff_four and a < cutoff_five:\n",
    "            year_2010 += 1\n",
    "\n",
    "        elif a > cutoff_five and a < cutoff_six:\n",
    "            year_2011 += 1\n",
    "\n",
    "        elif a > cutoff_six and a < cutoff_seven:\n",
    "            year_2012 += 1\n",
    "\n",
    "        elif a > cutoff_seven and a < cutoff_eight:\n",
    "            year_2013 += 1\n",
    "\n",
    "        elif a > cutoff_eight and a < cutoff_nine:\n",
    "            year_2014 += 1\n",
    "            \n",
    "        elif a > cutoff_nine and a < cutoff_ten:\n",
    "            year_2015 += 1\n",
    "\n",
    "        elif a > cutoff_ten and a < cutoff_eleven:\n",
    "            year_2016 += 1\n",
    "\n",
    "        elif a > cutoff_eleven:\n",
    "            year_2017 += 1\n",
    "        \n",
    "x_labels = ['year_2007', 'year_2008', 'year_2009', 'year_2010', 'year_2011',\\\n",
    "'year_2012', 'year_2013', 'year_2014', 'year_2015', 'year_2016', 'year_2017']\n",
    "\n",
    "bars = [year_2007, year_2008, year_2009, year_2010, year_2011,\\\n",
    "year_2012, year_2013, year_2014, year_2015, year_2016, year_2017]\n",
    "\n",
    "plt.bar(range(11), bars, align='center')\n",
    "plt.xticks(range(11), x_labels, rotation='vertical')\n",
    "plt.show()"
   ]
  },
  {
   "cell_type": "code",
   "execution_count": 193,
   "metadata": {
    "collapsed": false,
    "deletable": true,
    "editable": true
   },
   "outputs": [],
   "source": [
    "#API STUFF\n",
    "census_key = 'a1ee2d62c82e3560f11a7fcf341b60da3bd6a31e'\n",
    "import requests"
   ]
  },
  {
   "cell_type": "code",
   "execution_count": 194,
   "metadata": {
    "collapsed": false,
    "deletable": true,
    "editable": true
   },
   "outputs": [],
   "source": [
    "#limit dataframe\n",
    "response_frame = graffiti.sort_values(['Creation Date'], ascending=[False])\n",
    "limited_df = response_frame.head(n=100)"
   ]
  },
  {
   "cell_type": "code",
   "execution_count": 195,
   "metadata": {
    "collapsed": true,
    "deletable": true,
    "editable": true
   },
   "outputs": [],
   "source": [
    "total_population = 'B01003_001E'\n",
    "total_white = 'B02001_002E'\n",
    "below_poverty_level = 'B17001_002E'\n",
    "avg_household_size = 'B25010_001E'\n",
    "\n",
    "variables = total_population + ',' + total_white + ',' + below_poverty_level + ',' + avg_household_size"
   ]
  },
  {
   "cell_type": "code",
   "execution_count": 196,
   "metadata": {
    "collapsed": false,
    "deletable": true,
    "editable": true
   },
   "outputs": [
    {
     "name": "stdout",
     "output_type": "stream",
     "text": [
      "GRAFFITI\n",
      "percent white: 0.5729918169841963\n",
      "percent below poverty: 0.19983945265893416\n",
      "average household size: 3.029793814432988\n"
     ]
    }
   ],
   "source": [
    "population = []\n",
    "percent_white = []\n",
    "percent_below_poverty = []\n",
    "hhold_size = []\n",
    "\n",
    "for index, row in limited_df.iterrows():\n",
    "    lat = limited_df.ix[index, 'Latitude']\n",
    "    lon = limited_df.ix[index, 'Longitude']\n",
    "\n",
    "    url = 'http://data.fcc.gov/api/block/find?format=json&latitude={}&longitude={}&showall=false'.format(lat, lon)\n",
    "        \n",
    "    try:\n",
    "        r = requests.get(url).json()\n",
    "    \n",
    "    except:\n",
    "        continue\n",
    "        \n",
    "    fips = r['Block']['FIPS']\n",
    "    tract = fips[5:11]\n",
    "        \n",
    "    census_url = 'http://api.census.gov/data/2015/acs5?get=NAME,{}&for=tract:{}&in=state:17+county:031&key={}'\\\n",
    "    .format(variables, tract, census_key)\n",
    "    \n",
    "    try:\n",
    "        r2 = requests.get(census_url).json()\n",
    "        #json2 = r2.json()\n",
    "        \n",
    "    except:\n",
    "        continue\n",
    "    \n",
    "    population.append(r2[1][1])\n",
    "    percent_white.append(int(r2[1][2]) / int(r2[1][1]))\n",
    "    percent_below_poverty.append(int(r2[1][3]) / int(r2[1][1]))\n",
    "    hhold_size.append(float(r2[1][4]))\n",
    "    \n",
    "print('GRAFFITI')\n",
    "print('percent white:', sum(percent_white) / len(percent_white))\n",
    "print('percent below poverty:', sum(percent_below_poverty) / len(percent_below_poverty))\n",
    "print('average household size:', sum(hhold_size) / len(hhold_size))\n",
    "    "
   ]
  },
  {
   "cell_type": "code",
   "execution_count": 197,
   "metadata": {
    "collapsed": true,
    "deletable": true,
    "editable": true
   },
   "outputs": [],
   "source": [
    "#limit dataframe\n",
    "\n",
    "response_frame = potholes.sort_values(['CREATION DATE'], ascending=[False])\n",
    "limited_df = response_frame.head(n=100)"
   ]
  },
  {
   "cell_type": "code",
   "execution_count": 198,
   "metadata": {
    "collapsed": false,
    "deletable": true,
    "editable": true
   },
   "outputs": [
    {
     "name": "stdout",
     "output_type": "stream",
     "text": [
      "POTHOLES\n",
      "percent white: 0.5645875725804268\n",
      "percent below poverty: 0.17854379040625137\n",
      "average household size: 2.643645833333334\n"
     ]
    }
   ],
   "source": [
    "population = []\n",
    "percent_white = []\n",
    "percent_below_poverty = []\n",
    "hhold_size = []\n",
    "\n",
    "for index, row in limited_df.iterrows():\n",
    "    lat = limited_df.ix[index, 'LATITUDE']\n",
    "    lon = limited_df.ix[index, 'LONGITUDE']\n",
    "\n",
    "    url = 'http://data.fcc.gov/api/block/find?format=json&latitude={}&longitude={}&showall=false'.format(lat, lon)\n",
    "        \n",
    "    try:\n",
    "        r = requests.get(url).json()\n",
    "    \n",
    "    except:\n",
    "        continue\n",
    "        \n",
    "    fips = r['Block']['FIPS']\n",
    "    tract = fips[5:11]\n",
    "        \n",
    "    census_url = 'http://api.census.gov/data/2015/acs5?get=NAME,{}&for=tract:{}&in=state:17+county:031&key={}'\\\n",
    "    .format(variables, tract, census_key)\n",
    "    \n",
    "    try:\n",
    "        r2 = requests.get(census_url).json()\n",
    "        #json2 = r2.json()\n",
    "        \n",
    "    except:\n",
    "        continue\n",
    "    \n",
    "    if int(r2[1][1]) != 0:\n",
    "        population.append(r2[1][1])\n",
    "        percent_white.append(int(r2[1][2]) / int(r2[1][1]))\n",
    "        percent_below_poverty.append(int(r2[1][3]) / int(r2[1][1]))\n",
    "    if type(r2[1][4]) == str:\n",
    "        hhold_size.append(float(r2[1][4]))\n",
    "    \n",
    "print('POTHOLES')\n",
    "print('percent white:', sum(percent_white) / len(percent_white))\n",
    "print('percent below poverty:', sum(percent_below_poverty) / len(percent_below_poverty))\n",
    "print('average household size:', sum(hhold_size) / len(hhold_size))"
   ]
  },
  {
   "cell_type": "code",
   "execution_count": 199,
   "metadata": {
    "collapsed": true,
    "deletable": true,
    "editable": true
   },
   "outputs": [],
   "source": [
    "#limit dataframe\n",
    "response_frame = sanitation.sort_values(['Creation Date'], ascending=[False])\n",
    "limited_df = response_frame.head(n=100)"
   ]
  },
  {
   "cell_type": "code",
   "execution_count": 200,
   "metadata": {
    "collapsed": false,
    "deletable": true,
    "editable": true
   },
   "outputs": [
    {
     "name": "stdout",
     "output_type": "stream",
     "text": [
      "SANITATION\n",
      "percent white: 0.4991853233611801\n",
      "percent below poverty: 0.21122604846049847\n",
      "average household size: 2.6979999999999995\n"
     ]
    }
   ],
   "source": [
    "population = []\n",
    "percent_white = []\n",
    "percent_below_poverty = []\n",
    "hhold_size = []\n",
    "\n",
    "for index, row in limited_df.iterrows():\n",
    "    lat = limited_df.ix[index, 'Latitude']\n",
    "    lon = limited_df.ix[index, 'Longitude']\n",
    "\n",
    "    url = 'http://data.fcc.gov/api/block/find?format=json&latitude={}&longitude={}&showall=false'.format(lat, lon)\n",
    "        \n",
    "    try:\n",
    "        r = requests.get(url).json()\n",
    "    \n",
    "    except:\n",
    "        continue\n",
    "        \n",
    "    fips = r['Block']['FIPS']\n",
    "    tract = fips[5:11]\n",
    "        \n",
    "    census_url = 'http://api.census.gov/data/2015/acs5?get=NAME,{}&for=tract:{}&in=state:17+county:031&key={}'\\\n",
    "    .format(variables, tract, census_key)\n",
    "    \n",
    "    try:\n",
    "        r2 = requests.get(census_url).json()\n",
    "        #json2 = r2.json()\n",
    "        \n",
    "    except:\n",
    "        continue\n",
    "    \n",
    "    if int(r2[1][1]) != 0:\n",
    "        population.append(r2[1][1])\n",
    "        percent_white.append(int(r2[1][2]) / int(r2[1][1]))\n",
    "        percent_below_poverty.append(int(r2[1][3]) / int(r2[1][1]))\n",
    "    if type(r2[1][4]) == str:\n",
    "        hhold_size.append(float(r2[1][4]))\n",
    "    \n",
    "print('SANITATION')\n",
    "print('percent white:', sum(percent_white) / len(percent_white))\n",
    "print('percent below poverty:', sum(percent_below_poverty) / len(percent_below_poverty))\n",
    "print('average household size:', sum(hhold_size) / len(hhold_size))"
   ]
  },
  {
   "cell_type": "code",
   "execution_count": 201,
   "metadata": {
    "collapsed": false,
    "deletable": true,
    "editable": true
   },
   "outputs": [],
   "source": [
    "#limit dataframe\n",
    "response_frame = vacant_abandoned.sort_values(['DATE SERVICE REQUEST WAS RECEIVED'], ascending=[False])\n",
    "limited_df = response_frame.head(n=100)"
   ]
  },
  {
   "cell_type": "code",
   "execution_count": 202,
   "metadata": {
    "collapsed": false,
    "deletable": true,
    "editable": true
   },
   "outputs": [
    {
     "name": "stdout",
     "output_type": "stream",
     "text": [
      "VACANT/ABANDONED\n",
      "percent white: 0.16814268769615656\n",
      "percent below poverty: 0.33813267974153427\n",
      "average household size: 2.8947959183673473\n"
     ]
    }
   ],
   "source": [
    "percent_white = []\n",
    "percent_below_poverty = []\n",
    "hhold_size = []\n",
    "\n",
    "for index, row in limited_df.iterrows():\n",
    "    lat = limited_df.ix[index, 'LATITUDE']\n",
    "    lon = limited_df.ix[index, 'LONGITUDE']\n",
    "\n",
    "    url = 'http://data.fcc.gov/api/block/find?format=json&latitude={}&longitude={}&showall=false'.format(lat, lon)\n",
    "        \n",
    "    try:\n",
    "        r = requests.get(url).json()\n",
    "    \n",
    "    except:\n",
    "        continue\n",
    "        \n",
    "    fips = r['Block']['FIPS']\n",
    "    tract = fips[5:11]\n",
    "        \n",
    "    census_url = 'http://api.census.gov/data/2015/acs5?get=NAME,{}&for=tract:{}&in=state:17+county:031&key={}'\\\n",
    "    .format(variables, tract, census_key)\n",
    "    \n",
    "    try:\n",
    "        r2 = requests.get(census_url).json()\n",
    "        #json2 = r2.json()\n",
    "        \n",
    "    except:\n",
    "        continue\n",
    "    \n",
    "    if int(r2[1][1]) != 0:\n",
    "        percent_white.append(int(r2[1][2]) / int(r2[1][1]))\n",
    "        percent_below_poverty.append(int(r2[1][3]) / int(r2[1][1]))\n",
    "    if type(r2[1][4]) == str:\n",
    "        hhold_size.append(float(r2[1][4]))\n",
    "    \n",
    "print('VACANT/ABANDONED')\n",
    "print('percent white:', sum(percent_white) / len(percent_white))\n",
    "print('percent below poverty:', sum(percent_below_poverty) / len(percent_below_poverty))\n",
    "print('average household size:', sum(hhold_size) / len(hhold_size))"
   ]
  },
  {
   "cell_type": "code",
   "execution_count": 203,
   "metadata": {
    "collapsed": false,
    "deletable": true,
    "editable": true
   },
   "outputs": [
    {
     "name": "stdout",
     "output_type": "stream",
     "text": [
      "0.07499685375028192 living below the poverty level in cook county\n"
     ]
    }
   ],
   "source": [
    "#total percentage below poverty line in cook county\n",
    "\n",
    "pop_url = 'http://api.census.gov/data/2015/acs5?get=NAME,B01003_001E&for=county:031&in=state:17&key={}'\\\n",
    "    .format(census_key)\n",
    "\n",
    "r = requests.get(pop_url).json()\n",
    "pop = r[1][1]\n",
    "\n",
    "pov_url = 'http://api.census.gov/data/2015/acs5?get=NAME,B17001_003E&for=county:031&in=state:17&key={}'\\\n",
    "    .format(census_key)\n",
    "\n",
    "r2 = requests.get(pov_url).json()\n",
    "pov = r2[1][1]\n",
    "\n",
    "percent = int(pov) / int(pop)\n",
    "\n",
    "print(percent, 'living below the poverty level in cook county')"
   ]
  },
  {
   "cell_type": "code",
   "execution_count": 204,
   "metadata": {
    "collapsed": false,
    "deletable": true,
    "editable": true
   },
   "outputs": [
    {
     "name": "stdout",
     "output_type": "stream",
     "text": [
      "0.5684258228899168 white in cook county\n"
     ]
    }
   ],
   "source": [
    "#total percentage white in cook county\n",
    "\n",
    "white_url = 'http://api.census.gov/data/2015/acs5?get=NAME,B02001_002E&for=county:031&in=state:17&key={}'\\\n",
    "    .format(census_key)\n",
    "\n",
    "r = requests.get(white_url).json()\n",
    "white = r[1][1]\n",
    "\n",
    "percent = int(white) / int(pop)\n",
    "\n",
    "print(percent, 'white in cook county')"
   ]
  },
  {
   "cell_type": "code",
   "execution_count": 205,
   "metadata": {
    "collapsed": true,
    "deletable": true,
    "editable": true
   },
   "outputs": [],
   "source": [
    "#PROBLEM 3A"
   ]
  },
  {
   "cell_type": "code",
   "execution_count": 206,
   "metadata": {
    "collapsed": false,
    "deletable": true,
    "editable": true
   },
   "outputs": [],
   "source": [
    "ward17 = graffiti.loc[graffiti['Ward'] == 17]\n",
    "gtotal, rows1 = ward17.shape\n",
    "grequests, rows2 = graffiti.shape"
   ]
  },
  {
   "cell_type": "code",
   "execution_count": 207,
   "metadata": {
    "collapsed": false,
    "deletable": true,
    "editable": true
   },
   "outputs": [],
   "source": [
    "ward17 = potholes.loc[potholes['Ward'] == 17]\n",
    "ptotal, rows1 = ward17.shape\n",
    "prequests, rows2 = potholes.shape"
   ]
  },
  {
   "cell_type": "code",
   "execution_count": 208,
   "metadata": {
    "collapsed": false,
    "deletable": true,
    "editable": true
   },
   "outputs": [],
   "source": [
    "ward17 = sanitation.loc[sanitation['Ward'] == 17]\n",
    "stotal, rows1 = ward17.shape\n",
    "srequests, rows2 = sanitation.shape"
   ]
  },
  {
   "cell_type": "code",
   "execution_count": 209,
   "metadata": {
    "collapsed": false,
    "deletable": true,
    "editable": true
   },
   "outputs": [],
   "source": [
    "ward17 = vacant_abandoned.loc[vacant_abandoned['Ward'] == 17]\n",
    "vtotal, rows1 = ward17.shape\n",
    "vrequests, rows2 = vacant_abandoned.shape"
   ]
  },
  {
   "cell_type": "code",
   "execution_count": 211,
   "metadata": {
    "collapsed": false,
    "deletable": true,
    "editable": true
   },
   "outputs": [
    {
     "name": "stdout",
     "output_type": "stream",
     "text": [
      "Graffiti: 0.15158465387823183\n",
      "Potholes: 0.38787531276063386\n",
      "Sanitation: 0.20704753961634695\n",
      "Vacant: 0.25349249374478733\n"
     ]
    }
   ],
   "source": [
    "reports_from_17 = gtotal+ptotal+stotal+vtotal\n",
    "total_reports = grequests+prequests+srequests+vrequests\n",
    "\n",
    "prob17 = reports_from_17 / total_reports\n",
    "prob_graffiti = gtotal / total_reports\n",
    "prob_17_given_graf = gtotal / grequests\n",
    "prob_graf_given_17 = (grequests/total_reports)*prob_17_given_graf / prob17\n",
    "\n",
    "prob_potholes = ptotal / total_reports\n",
    "prob_17_given_pot = ptotal / prequests\n",
    "prob_potholes_given_17 = (prequests/total_reports)*prob_17_given_pot / prob17\n",
    "\n",
    "prob_san = stotal / total_reports\n",
    "prob_17_given_san = stotal / srequests\n",
    "prob_san_given_17 = (srequests/total_reports)*prob_17_given_san / prob17\n",
    "\n",
    "prob_vacant = vtotal / total_reports\n",
    "prob_17_given_vac = vtotal / vrequests\n",
    "prob_vac_given_17 = (vrequests/total_reports)*prob_17_given_vac / prob17\n",
    "\n",
    "print('Graffiti:', prob_graf_given_17)\n",
    "print('Potholes:', prob_potholes_given_17)\n",
    "print('Sanitation:', prob_san_given_17)\n",
    "print('Vacant:', prob_vac_given_17)"
   ]
  },
  {
   "cell_type": "code",
   "execution_count": 212,
   "metadata": {
    "collapsed": true,
    "deletable": true,
    "editable": true
   },
   "outputs": [],
   "source": [
    "#PROBLEM 3B"
   ]
  },
  {
   "cell_type": "code",
   "execution_count": 213,
   "metadata": {
    "collapsed": false,
    "deletable": true,
    "editable": true
   },
   "outputs": [],
   "source": [
    "glawndale = graffiti[(graffiti.Ward == 22) | (graffiti.Ward == 24)]\n",
    "plawndale = potholes[(potholes.Ward == 22) | (potholes.Ward == 24)]\n",
    "slawndale = sanitation[(sanitation.Ward == 22) | (sanitation.Ward == 24)]\n",
    "vlawndale = vacant_abandoned[(vacant_abandoned.Ward == 22) | (vacant_abandoned.Ward == 24)]\n",
    "\n",
    "gltotal, rows = glawndale.shape\n",
    "pltotal, rows = plawndale.shape\n",
    "sltotal, rows = slawndale.shape\n",
    "vltotal, rows = vlawndale.shape\n",
    "\n",
    "lawndale_total = gltotal+pltotal+sltotal+vltotal\n",
    "prob_graf_given_lawn = gltotal / lawndale_total\n",
    "\n",
    "guptown = graffiti[(graffiti.Ward == 46) | (graffiti.Ward == 47)]\n",
    "puptown = potholes[(potholes.Ward == 46) | (potholes.Ward == 47)]\n",
    "suptown = sanitation[(sanitation.Ward == 46) | (sanitation.Ward == 47)]\n",
    "vuptown = vacant_abandoned[(vacant_abandoned.Ward == 46) | (vacant_abandoned.Ward == 47)]\n",
    "\n",
    "gutotal, rows = guptown.shape\n",
    "putotal, rows = puptown.shape\n",
    "sutotal, rows = suptown.shape\n",
    "vutotal, rows = vuptown.shape\n",
    "\n",
    "uptown_total = gutotal+putotal+sutotal+vutotal\n",
    "prob_graf_given_up = gutotal / uptown_total"
   ]
  },
  {
   "cell_type": "code",
   "execution_count": 214,
   "metadata": {
    "collapsed": false,
    "deletable": true,
    "editable": true
   },
   "outputs": [
    {
     "name": "stdout",
     "output_type": "stream",
     "text": [
      "Lawndale: 0.5109464546915091\n",
      "Uptown: 0.48905354530849104\n"
     ]
    }
   ],
   "source": [
    "prob_lawndale = lawndale_total / total_reports\n",
    "prob_uptown = uptown_total / total_reports\n",
    "\n",
    "prob_graffiti = (gltotal + gutotal) / total_reports\n",
    "\n",
    "lnum = prob_lawndale*prob_graf_given_lawn\n",
    "unum = prob_uptown*prob_graf_given_up\n",
    "\n",
    "prob_lawn_given_graf = lnum / prob_graffiti\n",
    "prob_up_given_graf = unum / prob_graffiti\n",
    "\n",
    "print('Lawndale:', prob_lawn_given_graf)\n",
    "print('Uptown:', prob_up_given_graf)"
   ]
  },
  {
   "cell_type": "code",
   "execution_count": 215,
   "metadata": {
    "collapsed": true,
    "deletable": true,
    "editable": true
   },
   "outputs": [],
   "source": [
    "#PROBLEM 3C"
   ]
  },
  {
   "cell_type": "code",
   "execution_count": 217,
   "metadata": {
    "collapsed": false,
    "deletable": true,
    "editable": true
   },
   "outputs": [
    {
     "name": "stdout",
     "output_type": "stream",
     "text": [
      "0.3846153846153846\n"
     ]
    }
   ],
   "source": [
    "prob_eng = 600/1000\n",
    "prob_graf_given_eng = 100/600\n",
    "prob_graf = (100+160) / 1000\n",
    "prob_eng_given_graf = (prob_eng * prob_graf_given_eng) / prob_graf\n",
    "print(prob_eng_given_graf)"
   ]
  },
  {
   "cell_type": "code",
   "execution_count": 218,
   "metadata": {
    "collapsed": false,
    "deletable": true,
    "editable": true
   },
   "outputs": [
    {
     "name": "stdout",
     "output_type": "stream",
     "text": [
      "0.6153846153846155\n"
     ]
    }
   ],
   "source": [
    "prob_up = 400/1000\n",
    "prob_graf_given_up = 160/400\n",
    "prob_graf = (100+160) / 1000\n",
    "prob_up_given_graf = (prob_up * prob_graf_given_up) / prob_graf\n",
    "print(prob_up_given_graf)"
   ]
  },
  {
   "cell_type": "code",
   "execution_count": 219,
   "metadata": {
    "collapsed": false,
    "deletable": true,
    "editable": true
   },
   "outputs": [
    {
     "data": {
      "text/plain": [
       "0.23076923076923095"
      ]
     },
     "execution_count": 219,
     "metadata": {},
     "output_type": "execute_result"
    }
   ],
   "source": [
    "prob_up_given_graf - prob_eng_given_graf"
   ]
  }
 ],
 "metadata": {
  "kernelspec": {
   "display_name": "Python 3",
   "language": "python",
   "name": "python3"
  },
  "language_info": {
   "codemirror_mode": {
    "name": "ipython",
    "version": 3
   },
   "file_extension": ".py",
   "mimetype": "text/x-python",
   "name": "python",
   "nbconvert_exporter": "python",
   "pygments_lexer": "ipython3",
   "version": "3.5.1"
  }
 },
 "nbformat": 4,
 "nbformat_minor": 2
}
