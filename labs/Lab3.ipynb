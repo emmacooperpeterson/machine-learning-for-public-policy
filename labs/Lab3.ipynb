{
 "cells": [
  {
   "cell_type": "code",
   "execution_count": 25,
   "metadata": {
    "collapsed": true
   },
   "outputs": [],
   "source": [
    "import pandas as pd\n",
    "import pylab as pl\n",
    "import numpy as np\n",
    "import datetime\n",
    "import matplotlib as plt"
   ]
  },
  {
   "cell_type": "code",
   "execution_count": 12,
   "metadata": {
    "collapsed": false
   },
   "outputs": [
    {
     "name": "stdout",
     "output_type": "stream",
     "text": [
      "664098\n",
      "3667217\n",
      "619326\n",
      "3097989\n"
     ]
    }
   ],
   "source": [
    "#ensure correct size\n",
    "\n",
    "projects = pd.read_csv('/Users/emmapeterson/Downloads/lab3/projects.csv')\n",
    "print (projects.shape[0])\n",
    "\n",
    "resources = pd.read_csv('/Users/emmapeterson/Downloads/lab3/resources.csv')\n",
    "print (resources.shape[0])\n",
    "\n",
    "essays = pd.read_csv('/Users/emmapeterson/Downloads/lab3/essays.csv')\n",
    "print (essays.shape[0])\n",
    "\n",
    "outcomes = pd.read_csv('/Users/emmapeterson/Downloads/lab3/outcomes.csv')\n",
    "print (outcomes.shape[0])\n",
    "\n",
    "donations = pd.read_csv('/Users/emmapeterson/Downloads/lab3/donations.csv')\n",
    "print (donations.shape[0])"
   ]
  },
  {
   "cell_type": "code",
   "execution_count": 115,
   "metadata": {
    "collapsed": true
   },
   "outputs": [],
   "source": [
    "#merge projects with outcomes\n",
    "project_outcomes = pd.merge(projects, outcomes, on='projectid')"
   ]
  },
  {
   "cell_type": "code",
   "execution_count": 58,
   "metadata": {
    "collapsed": false
   },
   "outputs": [],
   "source": [
    "#obtain count of exciting projects per year\n",
    "\n",
    "data = {}\n",
    "\n",
    "for index, row in project_outcomes.iterrows():\n",
    "    \n",
    "    date_posted = project_outcomes.ix[index, 'date_posted']\n",
    "    exciting = project_outcomes.ix[index, 'is_exciting']\n",
    "    \n",
    "    if exciting == 't':\n",
    "        year = str(date_posted[:4])   \n",
    "        data[year] = data.get(year, 0) + 1"
   ]
  },
  {
   "cell_type": "code",
   "execution_count": 61,
   "metadata": {
    "collapsed": false
   },
   "outputs": [
    {
     "data": {
      "text/html": [
       "<div>\n",
       "<table border=\"1\" class=\"dataframe\">\n",
       "  <thead>\n",
       "    <tr style=\"text-align: right;\">\n",
       "      <th></th>\n",
       "      <th>year</th>\n",
       "      <th>count</th>\n",
       "    </tr>\n",
       "  </thead>\n",
       "  <tbody>\n",
       "    <tr>\n",
       "      <th>0</th>\n",
       "      <td>2012</td>\n",
       "      <td>7755</td>\n",
       "    </tr>\n",
       "    <tr>\n",
       "      <th>1</th>\n",
       "      <td>2010</td>\n",
       "      <td>5099</td>\n",
       "    </tr>\n",
       "    <tr>\n",
       "      <th>2</th>\n",
       "      <td>2013</td>\n",
       "      <td>14278</td>\n",
       "    </tr>\n",
       "    <tr>\n",
       "      <th>3</th>\n",
       "      <td>2011</td>\n",
       "      <td>9578</td>\n",
       "    </tr>\n",
       "  </tbody>\n",
       "</table>\n",
       "</div>"
      ],
      "text/plain": [
       "   year  count\n",
       "0  2012   7755\n",
       "1  2010   5099\n",
       "2  2013  14278\n",
       "3  2011   9578"
      ]
     },
     "execution_count": 61,
     "metadata": {},
     "output_type": "execute_result"
    }
   ],
   "source": [
    "df = pd.DataFrame(list(data.items()), columns=['year', 'count'])\n",
    "df"
   ]
  },
  {
   "cell_type": "code",
   "execution_count": 63,
   "metadata": {
    "collapsed": false
   },
   "outputs": [
    {
     "data": {
      "image/png": "[encoded data removed]",
      "text/plain": [
       "<matplotlib.figure.Figure at 0x13895bb38>"
      ]
     },
     "metadata": {},
     "output_type": "display_data"
    }
   ],
   "source": [
    "#plot exciting projects over time\n",
    "sort_year = df.sort_values('year', ascending=True)\n",
    "pl.plot(sort_year['year'], sort_year['count'])\n",
    "pl.xticks(rotation='vertical')\n",
    "pl.show()"
   ]
  },
  {
   "cell_type": "code",
   "execution_count": null,
   "metadata": {
    "collapsed": true
   },
   "outputs": [],
   "source": [
    "#selected features:\n",
    "#teacher_teach_for_america\n",
    "#students_reached\n",
    "#poverty level"
   ]
  },
  {
   "cell_type": "code",
   "execution_count": 75,
   "metadata": {
    "collapsed": true
   },
   "outputs": [],
   "source": [
    "from sklearn.neighbors import KNeighborsClassifier\n",
    "from sklearn import tree"
   ]
  },
  {
   "cell_type": "code",
   "execution_count": 117,
   "metadata": {
    "collapsed": false
   },
   "outputs": [],
   "source": [
    "#clean dataframe\n",
    "\n",
    "for index, row in project_outcomes.iterrows():\n",
    "    \n",
    "    if project_outcomes.ix[index, 'teacher_teach_for_america'] == 'f':\n",
    "        project_outcomes.set_value(index, 'teacher_teach_for_america', 0)\n",
    "    else:\n",
    "        project_outcomes.set_value(index, 'teacher_teach_for_america', 1)\n",
    "    \n",
    "    poverty_level= project_outcomes.ix[index, 'poverty_level']\n",
    "    \n",
    "    if poverty_level == 'highest poverty':\n",
    "        project_outcomes.set_value(index, 'poverty_level', 3)\n",
    "    elif poverty_level == 'high poverty':\n",
    "        project_outcomes.set_value(index, 'poverty_level', 2)\n",
    "    elif poverty_level == 'moderate poverty':\n",
    "        project_outcomes.set_value(index, 'poverty_level', 1)\n",
    "    else:\n",
    "        project_outcomes.set_value(index, 'poverty_level', 0)\n",
    "\n",
    "project_outcomes_no_na = project_outcomes.dropna()"
   ]
  },
  {
   "cell_type": "code",
   "execution_count": 118,
   "metadata": {
    "collapsed": true
   },
   "outputs": [],
   "source": [
    "from sklearn.cross_validation import train_test_split\n",
    "\n",
    "project_train, project_test = train_test_split(project_outcomes_no_na)"
   ]
  },
  {
   "cell_type": "code",
   "execution_count": 119,
   "metadata": {
    "collapsed": false
   },
   "outputs": [
    {
     "data": {
      "text/plain": [
       "KNeighborsClassifier(algorithm='auto', leaf_size=30, metric='minkowski',\n",
       "           metric_params=None, n_jobs=1, n_neighbors=5, p=2,\n",
       "           weights='uniform')"
      ]
     },
     "execution_count": 119,
     "metadata": {},
     "output_type": "execute_result"
    }
   ],
   "source": [
    "X  =  project_train[['teacher_teach_for_america', 'students_reached', 'poverty_level']]    # X includes columns 0,1,2,3\n",
    "y  =  project_train['is_exciting']   # Get target column\n",
    " \n",
    "neighbors = KNeighborsClassifier(n_neighbors=5)\n",
    "neighbors.fit(X, y)"
   ]
  },
  {
   "cell_type": "code",
   "execution_count": 120,
   "metadata": {
    "collapsed": false
   },
   "outputs": [
    {
     "name": "stdout",
     "output_type": "stream",
     "text": [
      "(array([[ 0.,  0.,  0.,  0.,  0.]]), array([[190702, 120393,   1167,  13695, 127192]]))\n"
     ]
    }
   ],
   "source": [
    "#find 5 neighbors for a project with a teach for america teacher, \n",
    "#reaching 100 students, with the highest poverty level'\n",
    "print(neighbors.kneighbors([[1, 100, 3]])) "
   ]
  },
  {
   "cell_type": "code",
   "execution_count": 126,
   "metadata": {
    "collapsed": false
   },
   "outputs": [],
   "source": [
    "#decision tree\n",
    "clf = tree.DecisionTreeClassifier()\n",
    "clf = clf.fit(X, y)"
   ]
  },
  {
   "cell_type": "code",
   "execution_count": 129,
   "metadata": {
    "collapsed": false
   },
   "outputs": [],
   "source": [
    "tree.export_graphviz(clf, out_file='tree.dot')"
   ]
  },
  {
   "cell_type": "code",
   "execution_count": null,
   "metadata": {
    "collapsed": true
   },
   "outputs": [],
   "source": []
  }
 ],
 "metadata": {
  "kernelspec": {
   "display_name": "Python 3",
   "language": "python",
   "name": "python3"
  },
  "language_info": {
   "codemirror_mode": {
    "name": "ipython",
    "version": 3
   },
   "file_extension": ".py",
   "mimetype": "text/x-python",
   "name": "python",
   "nbconvert_exporter": "python",
   "pygments_lexer": "ipython3",
   "version": "3.5.1"
  }
 },
 "nbformat": 4,
 "nbformat_minor": 2
}
