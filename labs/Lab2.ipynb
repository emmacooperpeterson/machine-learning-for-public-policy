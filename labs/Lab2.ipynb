{
 "cells": [
  {
   "cell_type": "code",
   "execution_count": 64,
   "metadata": {
    "collapsed": true
   },
   "outputs": [],
   "source": [
    "import pandas as pd\n",
    "import numpy as np\n",
    "import matplotlib.pyplot as plt\n",
    "import datetime\n",
    "from datetime import datetime\n",
    "%matplotlib inline\n",
    "\n",
    "graffiti = pd.read_csv('/Users/emmapeterson/Downloads/311_Service_Requests_-_Graffiti_Removal.csv')\n",
    "\n",
    "potholes = pd.read_csv('/Users/emmapeterson/Downloads/311_Service_Requests_-_Pot_Holes_Reported.csv')\n",
    "\n",
    "sanitation = pd.read_csv('/Users/emmapeterson/Downloads/311_Service_Requests_-_Sanitation_Code_Complaints.csv')\n",
    "\n",
    "vacant_abandoned = pd.read_csv\\\n",
    "('/Users/emmapeterson/Downloads/311_Service_Requests_-_Vacant_and_Abandoned_Buildings_Reported.csv', low_memory=False)"
   ]
  },
  {
   "cell_type": "code",
   "execution_count": 65,
   "metadata": {
    "collapsed": false
   },
   "outputs": [],
   "source": [
    "#response time over time: graffiti\n",
    "\n",
    "graffiti[\"Response Time\"] = \"\"\n",
    "\n",
    "for index, row in graffiti.iterrows():\n",
    "    start = graffiti.ix[index, 'Creation Date']\n",
    "    end = graffiti.ix[index, 'Completion Date']\n",
    "    \n",
    "    if type(end) == str:\n",
    "        a = datetime.strptime(start, \"%m/%d/%Y\")\n",
    "        b = datetime.strptime(end, \"%m/%d/%Y\")\n",
    "        \n",
    "        delta = b - a\n",
    "        graffiti.set_value(index, 'Response Time', delta.days)\n",
    "\n",
    "    else:\n",
    "        graffiti.set_value(index, 'Response Time', np.nan)"
   ]
  },
  {
   "cell_type": "code",
   "execution_count": 67,
   "metadata": {
    "collapsed": false
   },
   "outputs": [],
   "source": [
    "#separate dates: graffiti\n",
    "\n",
    "graffiti[\"Start Year\"] = \"\"\n",
    "graffiti[\"Start Month\"] = \"\"\n",
    "graffiti[\"Start Day\"] = \"\"\n",
    "graffiti[\"Weekday\"] = \"\"\n",
    "\n",
    "for index, row in graffiti.iterrows():\n",
    "        \n",
    "    year = graffiti.ix[index, 'Creation Date'][6:]\n",
    "    month = graffiti.ix[index, 'Creation Date'][:2]\n",
    "    day = graffiti.ix[index, 'Creation Date'][3:5]\n",
    "        \n",
    "    if day[0] == '0':\n",
    "        day = day[1:]\n",
    "\n",
    "    if month[0] == '0':\n",
    "        month = month[1:]\n",
    "\n",
    "    date = datetime(int(year), int(month), int(day))\n",
    "    weekday = date.weekday()\n",
    "\n",
    "    graffiti.set_value(index, 'Start Year', year)\n",
    "    graffiti.set_value(index, 'Start Month', month)\n",
    "    graffiti.set_value(index, 'Start Day', day)\n",
    "    graffiti.set_value(index, 'Weekday', weekday)"
   ]
  },
  {
   "cell_type": "code",
   "execution_count": 72,
   "metadata": {
    "collapsed": false
   },
   "outputs": [
    {
     "data": {
      "text/plain": [
       "<matplotlib.axes._subplots.AxesSubplot at 0x149306710>"
      ]
     },
     "execution_count": 72,
     "metadata": {},
     "output_type": "execute_result"
    },
    {
     "data": {
      "image/png": "[encoded data removed]",
      "text/plain": [
       "<matplotlib.figure.Figure at 0x1493044a8>"
      ]
     },
     "metadata": {},
     "output_type": "display_data"
    }
   ],
   "source": [
    "#response time by year: graffiti\n",
    "graffiti.plot(x='Start Year', y='Response Time')"
   ]
  },
  {
   "cell_type": "code",
   "execution_count": 70,
   "metadata": {
    "collapsed": false
   },
   "outputs": [
    {
     "data": {
      "text/plain": [
       "<matplotlib.axes._subplots.AxesSubplot at 0x12eac57f0>"
      ]
     },
     "execution_count": 70,
     "metadata": {},
     "output_type": "execute_result"
    },
    {
     "data": {
      "image/png": "[encoded data removed]",
      "text/plain": [
       "<matplotlib.figure.Figure at 0x118e9a8d0>"
      ]
     },
     "metadata": {},
     "output_type": "display_data"
    }
   ],
   "source": [
    "#response time by weekday: graffiti\n",
    "\n",
    "graffiti.plot.scatter(x='Weekday', y='Response Time')"
   ]
  },
  {
   "cell_type": "code",
   "execution_count": 74,
   "metadata": {
    "collapsed": false
   },
   "outputs": [],
   "source": [
    "#response time over time: potholes\n",
    "\n",
    "potholes[\"Response Time\"] = \"\"\n",
    "\n",
    "for index, row in potholes.iterrows():\n",
    "    start = potholes.ix[index, 'CREATION DATE']\n",
    "    end = potholes.ix[index, 'COMPLETION DATE']\n",
    "    \n",
    "    if type(end) == str:\n",
    "        a = datetime.strptime(start, \"%m/%d/%Y\")\n",
    "        b = datetime.strptime(end, \"%m/%d/%Y\")\n",
    "        \n",
    "        delta = b - a\n",
    "        potholes.set_value(index, 'Response Time', delta.days)\n",
    "\n",
    "    else:\n",
    "        potholes.set_value(index, 'Response Time', np.nan)"
   ]
  },
  {
   "cell_type": "code",
   "execution_count": 75,
   "metadata": {
    "collapsed": true
   },
   "outputs": [],
   "source": [
    "#separate dates: potholes\n",
    "\n",
    "potholes[\"Start Year\"] = \"\"\n",
    "potholes[\"Start Month\"] = \"\"\n",
    "potholes[\"Start Day\"] = \"\"\n",
    "potholes[\"Weekday\"] = \"\"\n",
    "\n",
    "for index, row in potholes.iterrows():\n",
    "        \n",
    "    year = potholes.ix[index, 'CREATION DATE'][6:]\n",
    "    month = potholes.ix[index, 'CREATION DATE'][:2]\n",
    "    day = potholes.ix[index, 'CREATION DATE'][3:5]\n",
    "        \n",
    "    if day[0] == '0':\n",
    "        day = day[1:]\n",
    "\n",
    "    if month[0] == '0':\n",
    "        month = month[1:]\n",
    "\n",
    "    date = datetime(int(year), int(month), int(day))\n",
    "    weekday = date.weekday()\n",
    "\n",
    "    potholes.set_value(index, 'Start Year', year)\n",
    "    potholes.set_value(index, 'Start Month', month)\n",
    "    potholes.set_value(index, 'Start Day', day)\n",
    "    potholes.set_value(index, 'Weekday', weekday)"
   ]
  },
  {
   "cell_type": "code",
   "execution_count": 89,
   "metadata": {
    "collapsed": false
   },
   "outputs": [
    {
     "data": {
      "text/plain": [
       "<matplotlib.axes._subplots.AxesSubplot at 0x12bcb7fd0>"
      ]
     },
     "execution_count": 89,
     "metadata": {},
     "output_type": "execute_result"
    },
    {
     "data": {
      "image/png": "[encoded data removed]",
      "text/plain": [
       "<matplotlib.figure.Figure at 0x12c67f208>"
      ]
     },
     "metadata": {},
     "output_type": "display_data"
    }
   ],
   "source": [
    "#response time by year: potholes\n",
    "\n",
    "potholes.plot(x='Start Year', y='Response Time')"
   ]
  },
  {
   "cell_type": "code",
   "execution_count": 77,
   "metadata": {
    "collapsed": false
   },
   "outputs": [
    {
     "data": {
      "text/plain": [
       "<matplotlib.axes._subplots.AxesSubplot at 0x12e6f1e48>"
      ]
     },
     "execution_count": 77,
     "metadata": {},
     "output_type": "execute_result"
    },
    {
     "data": {
      "image/png": "[encoded data removed]",
      "text/plain": [
       "<matplotlib.figure.Figure at 0x11fda9a90>"
      ]
     },
     "metadata": {},
     "output_type": "display_data"
    }
   ],
   "source": [
    "#response time by weekday: potholes\n",
    "\n",
    "potholes.plot.scatter(x='Weekday', y='Response Time')"
   ]
  },
  {
   "cell_type": "code",
   "execution_count": 79,
   "metadata": {
    "collapsed": true
   },
   "outputs": [],
   "source": [
    "#response time over time: sanitation\n",
    "\n",
    "sanitation[\"Response Time\"] = \"\"\n",
    "\n",
    "for index, row in sanitation.iterrows():\n",
    "    start = sanitation.ix[index, 'Creation Date']\n",
    "    end = sanitation.ix[index, 'Completion Date']\n",
    "    \n",
    "    if type(end) == str:\n",
    "        a = datetime.strptime(start, \"%m/%d/%Y\")\n",
    "        b = datetime.strptime(end, \"%m/%d/%Y\")\n",
    "        \n",
    "        delta = b - a\n",
    "        sanitation.set_value(index, 'Response Time', delta.days)\n",
    "\n",
    "    else:\n",
    "        sanitation.set_value(index, 'Response Time', np.nan)"
   ]
  },
  {
   "cell_type": "code",
   "execution_count": 82,
   "metadata": {
    "collapsed": false
   },
   "outputs": [],
   "source": [
    "#separate dates: sanitation\n",
    "\n",
    "sanitation[\"Start Year\"] = \"\"\n",
    "sanitation[\"Start Month\"] = \"\"\n",
    "sanitation[\"Start Day\"] = \"\"\n",
    "sanitation[\"Weekday\"] = \"\"\n",
    "\n",
    "for index, row in sanitation.iterrows():\n",
    "\n",
    "    start = sanitation.ix[index, 'Creation Date']\n",
    "    if type(start) == str:\n",
    "        \n",
    "        year = sanitation.ix[index, 'Creation Date'][6:]\n",
    "        month = sanitation.ix[index, 'Creation Date'][:2]\n",
    "        day = sanitation.ix[index, 'Creation Date'][3:5]\n",
    "\n",
    "        if day[0] == '0':\n",
    "            day = day[1:]\n",
    "\n",
    "        if month[0] == '0':\n",
    "            month = month[1:]\n",
    "\n",
    "        date = datetime(int(year), int(month), int(day))\n",
    "        weekday = date.weekday()\n",
    "\n",
    "        sanitation.set_value(index, 'Start Year', year)\n",
    "        sanitation.set_value(index, 'Start Month', month)\n",
    "        sanitation.set_value(index, 'Start Day', day)\n",
    "        sanitation.set_value(index, 'Weekday', weekday)"
   ]
  },
  {
   "cell_type": "code",
   "execution_count": 83,
   "metadata": {
    "collapsed": false
   },
   "outputs": [
    {
     "data": {
      "text/plain": [
       "<matplotlib.axes._subplots.AxesSubplot at 0x107926588>"
      ]
     },
     "execution_count": 83,
     "metadata": {},
     "output_type": "execute_result"
    },
    {
     "data": {
      "image/png": "[encoded data removed]",
      "text/plain": [
       "<matplotlib.figure.Figure at 0x12cb892b0>"
      ]
     },
     "metadata": {},
     "output_type": "display_data"
    }
   ],
   "source": [
    "#response time by year: sanitation\n",
    "\n",
    "sanitation.plot(x='Start Year', y='Response Time')"
   ]
  },
  {
   "cell_type": "code",
   "execution_count": 85,
   "metadata": {
    "collapsed": false
   },
   "outputs": [
    {
     "data": {
      "text/plain": [
       "<matplotlib.axes._subplots.AxesSubplot at 0x12705b668>"
      ]
     },
     "execution_count": 85,
     "metadata": {},
     "output_type": "execute_result"
    },
    {
     "data": {
      "image/png": "[encoded data removed]",
      "text/plain": [
       "<matplotlib.figure.Figure at 0x127051470>"
      ]
     },
     "metadata": {},
     "output_type": "display_data"
    }
   ],
   "source": [
    "#response time by weekday: sanitation\n",
    "\n",
    "sanitation.plot(x='Weekday', y='Response Time')"
   ]
  },
  {
   "cell_type": "code",
   "execution_count": 87,
   "metadata": {
    "collapsed": false
   },
   "outputs": [],
   "source": [
    "#vacant/abandoned homes: response time not relevant because completion date is not reported"
   ]
  },
  {
   "cell_type": "code",
   "execution_count": null,
   "metadata": {
    "collapsed": true
   },
   "outputs": [],
   "source": [
    "#LAB PART TWO"
   ]
  },
  {
   "cell_type": "code",
   "execution_count": 92,
   "metadata": {
    "collapsed": false
   },
   "outputs": [
    {
     "data": {
      "text/html": [
       "<div>\n",
       "<table border=\"1\" class=\"dataframe\">\n",
       "  <thead>\n",
       "    <tr style=\"text-align: right;\">\n",
       "      <th></th>\n",
       "      <th>geometry</th>\n",
       "      <th>objectid</th>\n",
       "      <th>shape_area</th>\n",
       "      <th>shape_len</th>\n",
       "      <th>zip</th>\n",
       "    </tr>\n",
       "  </thead>\n",
       "  <tbody>\n",
       "    <tr>\n",
       "      <th>0</th>\n",
       "      <td>(POLYGON ((-87.67762151065281 41.9177578010629...</td>\n",
       "      <td>33</td>\n",
       "      <td>106052287.488</td>\n",
       "      <td>42720.0444058</td>\n",
       "      <td>60647</td>\n",
       "    </tr>\n",
       "    <tr>\n",
       "      <th>1</th>\n",
       "      <td>(POLYGON ((-87.72683253163021 41.9226462671259...</td>\n",
       "      <td>34</td>\n",
       "      <td>127476050.762</td>\n",
       "      <td>48103.7827213</td>\n",
       "      <td>60639</td>\n",
       "    </tr>\n",
       "    <tr>\n",
       "      <th>2</th>\n",
       "      <td>(POLYGON ((-87.78500237831095 41.9091478547167...</td>\n",
       "      <td>35</td>\n",
       "      <td>45069038.4783</td>\n",
       "      <td>27288.6096123</td>\n",
       "      <td>60707</td>\n",
       "    </tr>\n",
       "    <tr>\n",
       "      <th>3</th>\n",
       "      <td>(POLYGON ((-87.6670686895295 41.88885188496992...</td>\n",
       "      <td>36</td>\n",
       "      <td>70853834.3797</td>\n",
       "      <td>42527.9896789</td>\n",
       "      <td>60622</td>\n",
       "    </tr>\n",
       "    <tr>\n",
       "      <th>4</th>\n",
       "      <td>(POLYGON ((-87.70655631674127 41.8955534069940...</td>\n",
       "      <td>37</td>\n",
       "      <td>99039621.2518</td>\n",
       "      <td>47970.1401531</td>\n",
       "      <td>60651</td>\n",
       "    </tr>\n",
       "  </tbody>\n",
       "</table>\n",
       "</div>"
      ],
      "text/plain": [
       "                                            geometry objectid     shape_area  \\\n",
       "0  (POLYGON ((-87.67762151065281 41.9177578010629...       33  106052287.488   \n",
       "1  (POLYGON ((-87.72683253163021 41.9226462671259...       34  127476050.762   \n",
       "2  (POLYGON ((-87.78500237831095 41.9091478547167...       35  45069038.4783   \n",
       "3  (POLYGON ((-87.6670686895295 41.88885188496992...       36  70853834.3797   \n",
       "4  (POLYGON ((-87.70655631674127 41.8955534069940...       37  99039621.2518   \n",
       "\n",
       "       shape_len    zip  \n",
       "0  42720.0444058  60647  \n",
       "1  48103.7827213  60639  \n",
       "2  27288.6096123  60707  \n",
       "3  42527.9896789  60622  \n",
       "4  47970.1401531  60651  "
      ]
     },
     "execution_count": 92,
     "metadata": {},
     "output_type": "execute_result"
    }
   ],
   "source": [
    "import geopandas as gpd\n",
    "\n",
    "chicago = gpd.read_file('/Users/emmapeterson/Downloads/Boundaries - ZIP Codes.geojson')\n",
    "chicago.head()"
   ]
  },
  {
   "cell_type": "code",
   "execution_count": 94,
   "metadata": {
    "collapsed": false
   },
   "outputs": [
    {
     "data": {
      "text/plain": [
       "<matplotlib.axes._subplots.AxesSubplot at 0x12ba2f438>"
      ]
     },
     "execution_count": 94,
     "metadata": {},
     "output_type": "execute_result"
    },
    {
     "data": {
      "image/png": "[encoded data removed]",
      "text/plain": [
       "<matplotlib.figure.Figure at 0x12cdfda90>"
      ]
     },
     "metadata": {},
     "output_type": "display_data"
    }
   ],
   "source": [
    "# plot a heatmap based on the zipcode size\n",
    "chicago.plot(column='shape_area', cmap='OrRd')"
   ]
  },
  {
   "cell_type": "code",
   "execution_count": null,
   "metadata": {
    "collapsed": true
   },
   "outputs": [],
   "source": [
    "#Aggregate the 311 requests by zipcode and visualize request frequency, \n",
    "#average request completion time by location, and any other things you find interesting. \n",
    "#Do the same for some of the demograpic data(IE: median household income by zipcode, etc). \n",
    "#Report any other interesting/surprising findings."
   ]
  }
 ],
 "metadata": {
  "kernelspec": {
   "display_name": "Python 3",
   "language": "python",
   "name": "python3"
  },
  "language_info": {
   "codemirror_mode": {
    "name": "ipython",
    "version": 3
   },
   "file_extension": ".py",
   "mimetype": "text/x-python",
   "name": "python",
   "nbconvert_exporter": "python",
   "pygments_lexer": "ipython3",
   "version": "3.5.1"
  }
 },
 "nbformat": 4,
 "nbformat_minor": 2
}
